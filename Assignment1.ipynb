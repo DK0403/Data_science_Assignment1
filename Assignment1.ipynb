{
  "nbformat": 4,
  "nbformat_minor": 0,
  "metadata": {
    "colab": {
      "provenance": []
    },
    "kernelspec": {
      "name": "python3",
      "display_name": "Python 3"
    },
    "language_info": {
      "name": "python"
    }
  },
  "cells": [
    {
      "cell_type": "markdown",
      "source": [
        "#Ans1\n",
        "#string\n",
        "a=\"Hi! I am Dishank Arora\"\n",
        "#list\n",
        "b=[1,\"two\",3.0,4]\n",
        "#float\n",
        "c=3.14\n",
        "#tuple\n",
        "d=(5,6,'seven',8.0)"
      ],
      "metadata": {
        "id": "l-J8F0mFBU9e"
      }
    },
    {
      "cell_type": "code",
      "source": [
        "#Ans2\n",
        "#var1-str\n",
        "#var2-str\n",
        "#var3-list\n",
        "#var4-float"
      ],
      "metadata": {
        "id": "zD4LVpd0Df5T"
      },
      "execution_count": null,
      "outputs": []
    },
    {
      "cell_type": "markdown",
      "source": [
        "#Ans3\n",
        "\n",
        "result = 10 / 3 #division, returns float\n",
        "print(result)  # Output will be 3.3333333333333335\n",
        "remainder = 10 % 3  #modulous function, returns remainder\n",
        "print(remainder)  # Output will be 1\n",
        "quotient = 10 // 3\n",
        "print(quotient)  # Output will be 3\n",
        "result = 2 ** 3\n",
        "print(result)  # Output will be 8"
      ],
      "metadata": {
        "id": "oxxD67xeDlKT"
      }
    },
    {
      "cell_type": "markdown",
      "source": [
        "#Ans4\n",
        "my_list = [10, \"Hello\", 3.14, True, [1, 2], (5, 6), {'a': 1}, None, 'world', False]\n",
        "\n",
        "for element in my_list:\n",
        "    print(f\"Element: {element}, Type: {type(element)}\")\n"
      ],
      "metadata": {
        "id": "S-ebl6MwDmHc"
      }
    },
    {
      "cell_type": "code",
      "source": [
        "#Ans5\n",
        "A = 100\n",
        "B = 5\n",
        "\n",
        "count = 0\n",
        "\n",
        "\n",
        "while A % B == 0:\n",
        "    A = A / B\n",
        "    count += 1\n",
        "\n",
        "if count > 0:\n",
        "    print(count, \"times divisible\")\n",
        "else:\n",
        "    print(\"A is not divisible by B\")\n"
      ],
      "metadata": {
        "colab": {
          "base_uri": "https://localhost:8080/"
        },
        "id": "32yISJaVENP4",
        "outputId": "72e0364f-1d3a-4857-92f2-a6a070bfbf30"
      },
      "execution_count": 9,
      "outputs": [
        {
          "output_type": "stream",
          "name": "stdout",
          "text": [
            "2 times divisible\n"
          ]
        }
      ]
    },
    {
      "cell_type": "markdown",
      "source": [
        "#Ans6\n",
        "list1 = [i for i in range(1, 26)]\n",
        "for num in list1:\n",
        "    if num % 3 == 0:\n",
        "        print(num,\"is divisible by 3\")\n",
        "    else:\n",
        "        print(num, \"is not divisible by 3\")\n"
      ],
      "metadata": {
        "id": "QuYQ5B_-Etu0"
      }
    },
    {
      "cell_type": "code",
      "source": [
        "#Ans7\n",
        "#mutable: Objects whose state or content can be changed after creation are mutable.\n",
        "list1 = [1, 2, 3, 4]\n",
        "\n",
        "list1[2] = 10  # Changing the value at index 2\n",
        "\n",
        "#Immutable: Objects whose state cannot be changed after creation are immutable.\n",
        "\n",
        "my_tuple = (1, 2, 3, 4)\n",
        "\n",
        "# Attempting to change the value at index 2 will result in an error\n",
        "# my_tuple[2] = 10  # This will raise an error because tuples are immutable\n",
        "\n",
        "# Creating a new tuple with modified value\n",
        "new_tuple = my_tuple[:2] + (10,) + my_tuple[3:]\n",
        "\n"
      ],
      "metadata": {
        "id": "ak0I3dPpFCyP"
      },
      "execution_count": 14,
      "outputs": []
    }
  ]
}